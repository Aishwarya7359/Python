{
 "cells": [
  {
   "cell_type": "code",
   "execution_count": 1,
   "metadata": {},
   "outputs": [],
   "source": [
    "import random#for using random function for random values"
   ]
  },
  {
   "cell_type": "code",
   "execution_count": 3,
   "metadata": {},
   "outputs": [],
   "source": [
    "from tkinter import *  #as we will need tkinter tool for graphical representation\n",
    "import string"
   ]
  },
  {
   "cell_type": "code",
   "execution_count": 12,
   "metadata": {},
   "outputs": [],
   "source": [
    "def generate_password():   #generate password function\n",
    "    password=[]            #for storing in list\n",
    "    for i in range(15):\n",
    "        alpha=random.choice(string.ascii_letters)   #random choice alphs\n",
    "        symbol=random.choice(string.punctuation)     #random choice punctuation\n",
    "        numbers=random.choice(string.digits)        #random choice digits\n",
    "        h=[alpha,symbol,numbers]                    \n",
    "        f=random.choice(h)      #will randomly choose alpha,or symbol or number\n",
    "        password.append(f)   # append to password\n",
    "        \n",
    "    y=''.join(str(x) for x in password)  #will join as string\n",
    "    lb1.config(text=y)  #to display in label"
   ]
  },
  {
   "cell_type": "code",
   "execution_count": 13,
   "metadata": {},
   "outputs": [],
   "source": [
    "root=Tk()\n",
    "root.geometry(\"250x200\")\n",
    "b1=Button(root,text='generate_password',command=generate_password)\n",
    "b1.grid(row=2,column=2)\n",
    "lb1=Label(root,font=(\"times\",15,\"bold\"))\n",
    "lb1.grid(row=4,column=2)\n",
    "root.mainloop()\n"
   ]
  },
  {
   "cell_type": "code",
   "execution_count": null,
   "metadata": {},
   "outputs": [],
   "source": []
  },
  {
   "cell_type": "code",
   "execution_count": null,
   "metadata": {},
   "outputs": [],
   "source": []
  },
  {
   "cell_type": "code",
   "execution_count": null,
   "metadata": {},
   "outputs": [],
   "source": []
  },
  {
   "cell_type": "code",
   "execution_count": null,
   "metadata": {},
   "outputs": [],
   "source": []
  },
  {
   "cell_type": "code",
   "execution_count": null,
   "metadata": {},
   "outputs": [],
   "source": []
  },
  {
   "cell_type": "code",
   "execution_count": null,
   "metadata": {},
   "outputs": [],
   "source": []
  },
  {
   "cell_type": "code",
   "execution_count": null,
   "metadata": {},
   "outputs": [],
   "source": []
  }
 ],
 "metadata": {
  "kernelspec": {
   "display_name": "Python 3",
   "language": "python",
   "name": "python3"
  },
  "language_info": {
   "codemirror_mode": {
    "name": "ipython",
    "version": 3
   },
   "file_extension": ".py",
   "mimetype": "text/x-python",
   "name": "python",
   "nbconvert_exporter": "python",
   "pygments_lexer": "ipython3",
   "version": "3.7.3"
  }
 },
 "nbformat": 4,
 "nbformat_minor": 2
}
