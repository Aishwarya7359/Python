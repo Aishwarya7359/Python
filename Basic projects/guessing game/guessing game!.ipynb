{
 "cells": [
  {
   "cell_type": "code",
   "execution_count": null,
   "metadata": {},
   "outputs": [],
   "source": [
    "# Write a program that picks a random integer from 1 to 100, and has players guess the number. The rules are:\n",
    "\n",
    "# If a player's guess is less than 1 or greater than 100, say \"OUT OF BOUNDS\"\n",
    "# On a player's first turn, if their guess is\n",
    "# within 10 of the number, return \"WARM!\"\n",
    "# further than 10 away from the number, return \"COLD!\"\n",
    "# On all subsequent turns, if a guess is\n",
    "# closer to the number than the previous guess return \"WARMER!\"\n",
    "# farther from the number than the previous guess, return \"COLDER!\"\n",
    "# When the player's guess equals the number, tell them they've guessed correctly and how many guesses it took!"
   ]
  },
  {
   "cell_type": "code",
   "execution_count": null,
   "metadata": {},
   "outputs": [],
   "source": [
    "import random \n",
    "num=random.randint(1,100)"
   ]
  },
  {
   "cell_type": "code",
   "execution_count": null,
   "metadata": {},
   "outputs": [],
   "source": [
    "guesses=[0]"
   ]
  },
  {
   "cell_type": "code",
   "execution_count": null,
   "metadata": {},
   "outputs": [],
   "source": [
    "print(\"WELCOME TO GUESS ME!\")\n",
    "print(\"I'm thinking of a number between 1 and 100\")\n",
    "print(\"If your guess is more than 10 away from my number, I'll tell you you're COLD\")\n",
    "print(\"If your guess is within 10 of my number, I'll tell you you're WARM\")\n",
    "print(\"If your guess is farther than your most recent guess, I'll say you're getting COLDER\")\n",
    "print(\"If your guess is closer than your most recent guess, I'll say you're getting WARMER\")\n",
    "print(\"LET'S PLAY!\")"
   ]
  },
  {
   "cell_type": "code",
   "execution_count": null,
   "metadata": {},
   "outputs": [],
   "source": [
    "while True:\n",
    "\n",
    "    # we can copy the code from above to take an input\n",
    "    guess = int(input(\"I'm thinking of a number between 1 and 100.\\n  What is your guess? \"))\n",
    "    \n",
    "    if guess < 1 or guess > 100:\n",
    "        print('OUT OF BOUNDS! Please try again: ')\n",
    "        continue\n",
    "    \n",
    "    # here we compare the player's guess to our number\n",
    "    if guess == num:\n",
    "        print(f'CONGRATULATIONS, YOU GUESSED IT IN ONLY {len(guesses)} GUESSES!!')\n",
    "        break\n",
    "     # if guess is incorrect, add guess to the list\n",
    "    guesses.append(guess)\n",
    "    \n",
    "    # when testing the first guess, guesses[-2]==0, which evaluates to False\n",
    "    # and brings us down to the second section\n",
    "    \n",
    "    if guesses[-2]:  \n",
    "        if abs(num-guess) < abs(num-guesses[-2]):\n",
    "            print('WARMER!')\n",
    "        else:\n",
    "            print('COLDER!')\n",
    "    else:\n",
    "        if abs(num-guess) <= 10:\n",
    "            print('WARM!')\n",
    "        else:\n",
    "            print('COLD!')\n",
    "   \n",
    "    \n",
    "        \n",
    "   "
   ]
  },
  {
   "cell_type": "code",
   "execution_count": null,
   "metadata": {},
   "outputs": [],
   "source": []
  }
 ],
 "metadata": {
  "kernelspec": {
   "display_name": "Python 3",
   "language": "python",
   "name": "python3"
  },
  "language_info": {
   "codemirror_mode": {
    "name": "ipython",
    "version": 3
   },
   "file_extension": ".py",
   "mimetype": "text/x-python",
   "name": "python",
   "nbconvert_exporter": "python",
   "pygments_lexer": "ipython3",
   "version": "3.7.3"
  }
 },
 "nbformat": 4,
 "nbformat_minor": 2
}
